{
  "nbformat": 4,
  "nbformat_minor": 0,
  "metadata": {
    "colab": {
      "name": "Python List.ipynb",
      "provenance": [],
      "authorship_tag": "ABX9TyPn4inSacOsCdgS8dFOV0OX"
    },
    "kernelspec": {
      "name": "python3",
      "display_name": "Python 3"
    }
  },
  "cells": [
    {
      "cell_type": "markdown",
      "metadata": {
        "id": "uGGbATirymGz",
        "colab_type": "text"
      },
      "source": [
        "# Python Lists\n",
        "The most basic data structure in Python is the sequence. Each element of a sequence is assigned a number: its position or index. The first index is 0, the second index is 1, and so forth...\n",
        "\n",
        "Python has six built-in types of sequences. Lists are the most common ones.  "
      ]
    },
    {
      "cell_type": "markdown",
      "metadata": {
        "id": "TFI12NiDwQuo",
        "colab_type": "text"
      },
      "source": [
        "A list is a collection. A list is ordered and is changeable. In Python lists are written with square brackets."
      ]
    },
    {
      "cell_type": "markdown",
      "metadata": {
        "id": "-zREu3WUwfzg",
        "colab_type": "text"
      },
      "source": [
        "**Creating A list**\n",
        "\n",
        "Creating a list is very simple as we will see below...\n",
        "\n",
        "To display a list. we use the `print()` function"
      ]
    },
    {
      "cell_type": "code",
      "metadata": {
        "id": "KMjqR9eQwc8X",
        "colab_type": "code",
        "outputId": "3b8d9fb9-3af0-466a-cf81-2c6eaa859b90",
        "colab": {
          "base_uri": "https://localhost:8080/",
          "height": 106
        }
      },
      "source": [
        "# empty list\n",
        "my_list = []\n",
        "print(my_list)\n",
        "\n",
        "# a list of int type\n",
        "my_list = [1, 2, 3, 4, 5, 6, 7, 8 , 9]\n",
        "print(my_list)\n",
        "\n",
        "# a list of float type\n",
        "my_list = [1.2, 2.3, 3.4, 4.5, 5.6, 6.7]\n",
        "print(my_list)\n",
        "\n",
        "#a list of string type\n",
        "my_list = [\"apple\", \"banana\", \"cherry\", \"berry\", \"watermelon\"]\n",
        "print(my_list)\n",
        "\n",
        "# a list of bool type\n",
        "my_list = [True, False, True, True, False, False]\n",
        "print(my_list)"
      ],
      "execution_count": 8,
      "outputs": [
        {
          "output_type": "stream",
          "text": [
            "[]\n",
            "[1, 2, 3, 4, 5, 6, 7, 8, 9]\n",
            "[1.2, 2.3, 3.4, 4.5, 5.6, 6.7]\n",
            "['apple', 'banana', 'cherry', 'berry', 'watermelon']\n",
            "[True, False, True, True, False, False]\n"
          ],
          "name": "stdout"
        }
      ]
    },
    {
      "cell_type": "markdown",
      "metadata": {
        "id": "BCe0elxlzKQ8",
        "colab_type": "text"
      },
      "source": [
        "Important thing about a list is that items in a list need not be of the same type."
      ]
    },
    {
      "cell_type": "code",
      "metadata": {
        "id": "km_d9tJzzSWf",
        "colab_type": "code",
        "colab": {
          "base_uri": "https://localhost:8080/",
          "height": 35
        },
        "outputId": "5192b077-925a-4b1a-b6e7-b356fc3c7308"
      },
      "source": [
        "# a list of mixed type\n",
        "my_list = [6, 7, 8 , 9,3.4, 4.5, 5.6, \"apple\", \"banana\", True, False, True,]\n",
        "print(my_list)"
      ],
      "execution_count": 4,
      "outputs": [
        {
          "output_type": "stream",
          "text": [
            "[6, 7, 8, 9, 3.4, 4.5, 5.6, 'apple', 'banana', True, False, True]\n"
          ],
          "name": "stdout"
        }
      ]
    },
    {
      "cell_type": "code",
      "metadata": {
        "id": "NNtCtUiBzUdx",
        "colab_type": "code",
        "colab": {}
      },
      "source": [
        ""
      ],
      "execution_count": 0,
      "outputs": []
    },
    {
      "cell_type": "markdown",
      "metadata": {
        "id": "NtFVWYCx0aix",
        "colab_type": "text"
      },
      "source": [
        "**Accessing Values in Lists**\n",
        "\n",
        "To access values in lists, use the square brackets with the index or indices to obtain value available at that index."
      ]
    },
    {
      "cell_type": "code",
      "metadata": {
        "id": "dfQoBHtQ1KRz",
        "colab_type": "code",
        "colab": {
          "base_uri": "https://localhost:8080/",
          "height": 70
        },
        "outputId": "a498385f-2e51-41c5-ab5d-82bc2adba560"
      },
      "source": [
        "# a list of mixed type\n",
        "my_list = [6, 7, 8 , 9,3.4, 4.5, 5.6, \"apple\", \"banana\", True, False, True,]\n",
        "\n",
        "#print the element at index 3\n",
        "print(my_list[3])\n",
        "#print the element at index 5\n",
        "print(my_list[5])\n",
        "#print the element at index -1. the last element\n",
        "print(my_list[-1])"
      ],
      "execution_count": 5,
      "outputs": [
        {
          "output_type": "stream",
          "text": [
            "9\n",
            "4.5\n",
            "True\n"
          ],
          "name": "stdout"
        }
      ]
    },
    {
      "cell_type": "markdown",
      "metadata": {
        "id": "cBCdA8YQ1HgD",
        "colab_type": "text"
      },
      "source": [
        "\n",
        "If you use more than one index meaning indices, you will obtain a slice hence its called python list slicing.\n",
        "\n",
        "a slice of a list is also a list."
      ]
    },
    {
      "cell_type": "code",
      "metadata": {
        "id": "SuqwF9Br10-v",
        "colab_type": "code",
        "colab": {
          "base_uri": "https://localhost:8080/",
          "height": 35
        },
        "outputId": "e6014563-7207-42f4-864a-30d7b7236961"
      },
      "source": [
        "#print the elements from index 1 to index 6\n",
        "print(my_list[1:6])"
      ],
      "execution_count": 6,
      "outputs": [
        {
          "output_type": "stream",
          "text": [
            "[7, 8, 9, 3.4, 4.5]\n"
          ],
          "name": "stdout"
        }
      ]
    },
    {
      "cell_type": "markdown",
      "metadata": {
        "id": "4aX9A9qA40jU",
        "colab_type": "text"
      },
      "source": [
        "**Updating Lists**\n",
        "\n",
        "You can update single or multiple elements of lists."
      ]
    },
    {
      "cell_type": "code",
      "metadata": {
        "id": "NU86liXN1GCI",
        "colab_type": "code",
        "colab": {
          "base_uri": "https://localhost:8080/",
          "height": 52
        },
        "outputId": "90edee71-0adc-4578-ae2b-a5416496f6cf"
      },
      "source": [
        "my_list[3] = \"changed\"\n",
        "my_list[5] = \"changed\"\n",
        "\n",
        "#print the element at index 3\n",
        "print(my_list[3])\n",
        "#print the element at index 5\n",
        "print(my_list[5])"
      ],
      "execution_count": 7,
      "outputs": [
        {
          "output_type": "stream",
          "text": [
            "changed\n",
            "changed\n"
          ],
          "name": "stdout"
        }
      ]
    },
    {
      "cell_type": "markdown",
      "metadata": {
        "id": "3GJMcH-E5ifb",
        "colab_type": "text"
      },
      "source": [
        "Remeber you can update the value to be anything. "
      ]
    },
    {
      "cell_type": "code",
      "metadata": {
        "id": "W95oNFOG5gDL",
        "colab_type": "code",
        "colab": {}
      },
      "source": [
        ""
      ],
      "execution_count": 0,
      "outputs": []
    }
  ]
}