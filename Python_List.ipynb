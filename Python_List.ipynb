{
  "nbformat": 4,
  "nbformat_minor": 0,
  "metadata": {
    "colab": {
      "name": "Python List.ipynb",
      "provenance": [],
      "authorship_tag": "ABX9TyMEXDR9jQvRK9tsdQ+S3HEt"
    },
    "kernelspec": {
      "name": "python3",
      "display_name": "Python 3"
    }
  },
  "cells": [
    {
      "cell_type": "markdown",
      "metadata": {
        "id": "TFI12NiDwQuo",
        "colab_type": "text"
      },
      "source": [
        "# Python Lists\n",
        "\n",
        "A list is a collection. A list is ordered and changeable. In Python lists are written with square brackets."
      ]
    },
    {
      "cell_type": "markdown",
      "metadata": {
        "id": "-zREu3WUwfzg",
        "colab_type": "text"
      },
      "source": [
        "**Creating A list**\n",
        "\n",
        "To display a list. we use the `print()` function"
      ]
    },
    {
      "cell_type": "code",
      "metadata": {
        "id": "KMjqR9eQwc8X",
        "colab_type": "code",
        "colab": {
          "base_uri": "https://localhost:8080/",
          "height": 106
        },
        "outputId": "ed442d04-bb20-4bc7-cb10-c18402121856"
      },
      "source": [
        "# a list of int type\n",
        "my_list = [1, 2, 3, 4, 5, 6, 7, 8 , 9]\n",
        "print(my_list)\n",
        "\n",
        "# a list of float type\n",
        "my_list = [1.2, 2.3, 3.4, 4.5, 5.6, 6.7]\n",
        "print(my_list)\n",
        "\n",
        "#a list of string type\n",
        "my_list = [\"apple\", \"banana\", \"cherry\", \"berry\", \"watermelon\"]\n",
        "print(my_list)\n",
        "\n",
        "# a list of bool type\n",
        "my_list = [True, False, True, True, False, False]\n",
        "print(my_list)\n",
        "\n",
        "# a list of mixed type\n",
        "my_list = [6, 7, 8 , 9,3.4, 4.5, 5.6, \"apple\", \"banana\", True, False, True,]\n",
        "print(my_list)"
      ],
      "execution_count": 3,
      "outputs": [
        {
          "output_type": "stream",
          "text": [
            "[1, 2, 3, 4, 5, 6, 7, 8, 9]\n",
            "[1.2, 2.3, 3.4, 4.5, 5.6, 6.7]\n",
            "['apple', 'banana', 'cherry', 'berry', 'watermelon']\n",
            "[True, False, True, True, False, False]\n",
            "[6, 7, 8, 9, 3.4, 4.5, 5.6, 'apple', 'banana', True, False, True]\n"
          ],
          "name": "stdout"
        }
      ]
    }
  ]
}